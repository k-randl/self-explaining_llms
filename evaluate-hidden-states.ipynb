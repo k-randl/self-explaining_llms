{
 "cells": [
  {
   "cell_type": "code",
   "execution_count": null,
   "metadata": {},
   "outputs": [],
   "source": [
    "import numpy as np\n",
    "import matplotlib.pyplot as plt"
   ]
  },
  {
   "cell_type": "markdown",
   "metadata": {},
   "source": [
    "# Counterfactual:"
   ]
  },
  {
   "cell_type": "code",
   "execution_count": null,
   "metadata": {},
   "outputs": [],
   "source": [
    "from sklearn.metrics import pairwise_distances\n",
    "\n",
    "for model in RESULTS:\n",
    "    r = np.random.choice(RESULTS[model])\n",
    "\n",
    "    # get sample boundaries:\n",
    "    start = r['sample']['start']\n",
    "    end   = r['sample']['end']\n",
    "\n",
    "    hs_cf = r['counterfactual']['hidden_states'][0,:,0,start:end]\n",
    "    hs_r  = r['hidden_states'][0,:,0,start:end]\n",
    "\n",
    "    err = []\n",
    "    for layer in range(hs_cf.shape[0]):\n",
    "        dist = pairwise_distances(hs_r[layer], hs_cf[layer], metric='euclidean')\n",
    "\n",
    "        err.append(dist.min(axis=1))\n",
    "\n",
    "    plt.imshow(err)\n",
    "    plt.xticks(\n",
    "        ticks    = range(end-start),\n",
    "        labels   = r['tokens'][start:end],\n",
    "        rotation = 90\n",
    "    )\n",
    "    plt.show()"
   ]
  }
 ],
 "metadata": {
  "language_info": {
   "name": "python"
  }
 },
 "nbformat": 4,
 "nbformat_minor": 2
}
