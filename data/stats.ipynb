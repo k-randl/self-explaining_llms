{
 "cells": [
  {
   "cell_type": "code",
   "execution_count": 1,
   "id": "c916d7bf-f1f0-4025-96e0-b481ecccc628",
   "metadata": {},
   "outputs": [],
   "source": [
    "import json\n",
    "import pandas as pd"
   ]
  },
  {
   "cell_type": "markdown",
   "id": "3fe26849-2d40-4b72-9660-7e8380cbb509",
   "metadata": {
    "jp-MarkdownHeadingCollapsed": true
   },
   "source": [
    "# Food Incidents"
   ]
  },
  {
   "cell_type": "markdown",
   "id": "fb02a66f-434d-48fd-9dc5-e28ff4b41f74",
   "metadata": {
    "jp-MarkdownHeadingCollapsed": true
   },
   "source": [
    "## Supplier:"
   ]
  },
  {
   "cell_type": "code",
   "execution_count": 3,
   "id": "7ae1f393-7af0-4061-aa55-6b4725bc925f",
   "metadata": {},
   "outputs": [
    {
     "data": {
      "text/html": [
       "<div>\n",
       "<style scoped>\n",
       "    .dataframe tbody tr th:only-of-type {\n",
       "        vertical-align: middle;\n",
       "    }\n",
       "\n",
       "    .dataframe tbody tr th {\n",
       "        vertical-align: top;\n",
       "    }\n",
       "\n",
       "    .dataframe thead th {\n",
       "        text-align: right;\n",
       "    }\n",
       "</style>\n",
       "<table border=\"1\" class=\"dataframe\">\n",
       "  <thead>\n",
       "    <tr style=\"text-align: right;\">\n",
       "      <th></th>\n",
       "      <th>title</th>\n",
       "      <th>supplier-title</th>\n",
       "      <th>size</th>\n",
       "    </tr>\n",
       "  </thead>\n",
       "  <tbody>\n",
       "    <tr>\n",
       "      <th>0</th>\n",
       "      <td>Essential Trading recalls Essential Wholefoods...</td>\n",
       "      <td>(0,16)|(26,34)</td>\n",
       "      <td>100</td>\n",
       "    </tr>\n",
       "    <tr>\n",
       "      <th>1</th>\n",
       "      <td>2013 - The Muffin \"Mam\", Inc. Issues a Recall ...</td>\n",
       "      <td>(7,27)|(73,93)</td>\n",
       "      <td>123</td>\n",
       "    </tr>\n",
       "    <tr>\n",
       "      <th>2</th>\n",
       "      <td>2015 - Whole Foods Market Voluntarily Recalls ...</td>\n",
       "      <td>(7,24)</td>\n",
       "      <td>101</td>\n",
       "    </tr>\n",
       "    <tr>\n",
       "      <th>3</th>\n",
       "      <td>Continental Mills Recalls Walmart Great Value ...</td>\n",
       "      <td>(0,16)</td>\n",
       "      <td>124</td>\n",
       "    </tr>\n",
       "    <tr>\n",
       "      <th>4</th>\n",
       "      <td>Wilton Wholefoods recalls its Goji Berries pro...</td>\n",
       "      <td>(0,16)</td>\n",
       "      <td>50</td>\n",
       "    </tr>\n",
       "    <tr>\n",
       "      <th>...</th>\n",
       "      <td>...</td>\n",
       "      <td>...</td>\n",
       "      <td>...</td>\n",
       "    </tr>\n",
       "    <tr>\n",
       "      <th>495</th>\n",
       "      <td>Neal's Yard Creamery recalls its 'Hay on Wye' ...</td>\n",
       "      <td>(0,19)</td>\n",
       "      <td>105</td>\n",
       "    </tr>\n",
       "    <tr>\n",
       "      <th>496</th>\n",
       "      <td>Interlink recalls its Pop Millet (Roasted Mill...</td>\n",
       "      <td>(0,8)</td>\n",
       "      <td>84</td>\n",
       "    </tr>\n",
       "    <tr>\n",
       "      <th>497</th>\n",
       "      <td>WH Smith recalls Simpleas Sea Salt and Balsami...</td>\n",
       "      <td>(0,7)</td>\n",
       "      <td>98</td>\n",
       "    </tr>\n",
       "    <tr>\n",
       "      <th>498</th>\n",
       "      <td>Consumption of Our Father's Farm brand bitter ...</td>\n",
       "      <td>(15,31)</td>\n",
       "      <td>97</td>\n",
       "    </tr>\n",
       "    <tr>\n",
       "      <th>499</th>\n",
       "      <td>Save A Lot Issues Allergy Alert on Undeclared ...</td>\n",
       "      <td>(97,102)</td>\n",
       "      <td>181</td>\n",
       "    </tr>\n",
       "  </tbody>\n",
       "</table>\n",
       "<p>500 rows × 3 columns</p>\n",
       "</div>"
      ],
      "text/plain": [
       "                                                 title  supplier-title  size\n",
       "0    Essential Trading recalls Essential Wholefoods...  (0,16)|(26,34)   100\n",
       "1    2013 - The Muffin \"Mam\", Inc. Issues a Recall ...  (7,27)|(73,93)   123\n",
       "2    2015 - Whole Foods Market Voluntarily Recalls ...          (7,24)   101\n",
       "3    Continental Mills Recalls Walmart Great Value ...          (0,16)   124\n",
       "4    Wilton Wholefoods recalls its Goji Berries pro...          (0,16)    50\n",
       "..                                                 ...             ...   ...\n",
       "495  Neal's Yard Creamery recalls its 'Hay on Wye' ...          (0,19)   105\n",
       "496  Interlink recalls its Pop Millet (Roasted Mill...           (0,8)    84\n",
       "497  WH Smith recalls Simpleas Sea Salt and Balsami...           (0,7)    98\n",
       "498  Consumption of Our Father's Farm brand bitter ...         (15,31)    97\n",
       "499  Save A Lot Issues Allergy Alert on Undeclared ...        (97,102)   181\n",
       "\n",
       "[500 rows x 3 columns]"
      ]
     },
     "execution_count": 3,
     "metadata": {},
     "output_type": "execute_result"
    }
   ],
   "source": [
    "data = pd.read_csv('food incidents - supplier/incidents_sample.csv', index_col=0)[['title', 'supplier-title']].fillna('')\n",
    "data[\"size\"] = [len(s) for s in data.title.values]\n",
    "\n",
    "data"
   ]
  },
  {
   "cell_type": "code",
   "execution_count": 4,
   "id": "4852ace2-9266-4233-b5cf-b5de87b2998b",
   "metadata": {},
   "outputs": [
    {
     "name": "stdout",
     "output_type": "stream",
     "text": [
      "Min length: 50\n",
      "Max length: 245\n",
      "Avg length: 98.416\n"
     ]
    },
    {
     "data": {
      "image/png": "[encoded data removed]",
      "text/plain": [
       "<Figure size 640x480 with 1 Axes>"
      ]
     },
     "metadata": {},
     "output_type": "display_data"
    }
   ],
   "source": [
    "data['size'].hist()\n",
    "\n",
    "print('Min length:', data['size'].min())\n",
    "print('Max length:', data['size'].max())\n",
    "print('Avg length:', data['size'].mean())"
   ]
  },
  {
   "cell_type": "markdown",
   "id": "8636c84a-3a02-4ffd-ad1c-52a5fb72ef08",
   "metadata": {
    "jp-MarkdownHeadingCollapsed": true
   },
   "source": [
    "## Hazard:"
   ]
  },
  {
   "cell_type": "code",
   "execution_count": 5,
   "id": "747a761f-2f77-40a5-89b7-930c98b06aac",
   "metadata": {},
   "outputs": [
    {
     "data": {
      "text/html": [
       "<div>\n",
       "<style scoped>\n",
       "    .dataframe tbody tr th:only-of-type {\n",
       "        vertical-align: middle;\n",
       "    }\n",
       "\n",
       "    .dataframe tbody tr th {\n",
       "        vertical-align: top;\n",
       "    }\n",
       "\n",
       "    .dataframe thead th {\n",
       "        text-align: right;\n",
       "    }\n",
       "</style>\n",
       "<table border=\"1\" class=\"dataframe\">\n",
       "  <thead>\n",
       "    <tr style=\"text-align: right;\">\n",
       "      <th></th>\n",
       "      <th>title</th>\n",
       "      <th>hazard-category</th>\n",
       "      <th>hazard-raw</th>\n",
       "      <th>size</th>\n",
       "    </tr>\n",
       "  </thead>\n",
       "  <tbody>\n",
       "    <tr>\n",
       "      <th>0</th>\n",
       "      <td>2012 - Whole Foods Market recalls carrot cake ...</td>\n",
       "      <td>allergens</td>\n",
       "      <td>walnut</td>\n",
       "      <td>100</td>\n",
       "    </tr>\n",
       "    <tr>\n",
       "      <th>1</th>\n",
       "      <td>CSM Bakery Solutions recalls its 18 Chocolate ...</td>\n",
       "      <td>biological</td>\n",
       "      <td>salmonella</td>\n",
       "      <td>117</td>\n",
       "    </tr>\n",
       "    <tr>\n",
       "      <th>2</th>\n",
       "      <td>Lactalis McLelland Ltd recalls President Mini ...</td>\n",
       "      <td>allergens</td>\n",
       "      <td>nuts</td>\n",
       "      <td>89</td>\n",
       "    </tr>\n",
       "    <tr>\n",
       "      <th>3</th>\n",
       "      <td>Idéale brand, Iceberg Premium brand and Origin...</td>\n",
       "      <td>foreign bodies</td>\n",
       "      <td>metal particles</td>\n",
       "      <td>159</td>\n",
       "    </tr>\n",
       "    <tr>\n",
       "      <th>4</th>\n",
       "      <td>Public urged not to consume two kinds of prepa...</td>\n",
       "      <td>chemical</td>\n",
       "      <td>histamine</td>\n",
       "      <td>92</td>\n",
       "    </tr>\n",
       "    <tr>\n",
       "      <th>...</th>\n",
       "      <td>...</td>\n",
       "      <td>...</td>\n",
       "      <td>...</td>\n",
       "      <td>...</td>\n",
       "    </tr>\n",
       "    <tr>\n",
       "      <th>195</th>\n",
       "      <td>McCain Family Pizza – Possible foreign matter ...</td>\n",
       "      <td>foreign bodies</td>\n",
       "      <td>metal pieces</td>\n",
       "      <td>75</td>\n",
       "    </tr>\n",
       "    <tr>\n",
       "      <th>196</th>\n",
       "      <td>Sealtest and Mac's brand Chocolate Milk recall...</td>\n",
       "      <td>organoleptic aspects</td>\n",
       "      <td>spoilage</td>\n",
       "      <td>64</td>\n",
       "    </tr>\n",
       "    <tr>\n",
       "      <th>197</th>\n",
       "      <td>CFS follows up on imported frozen beef abomasu...</td>\n",
       "      <td>biological</td>\n",
       "      <td>virus</td>\n",
       "      <td>98</td>\n",
       "    </tr>\n",
       "    <tr>\n",
       "      <th>198</th>\n",
       "      <td>Your Fresh Market brand cookies recalled due t...</td>\n",
       "      <td>allergens</td>\n",
       "      <td>almond</td>\n",
       "      <td>74</td>\n",
       "    </tr>\n",
       "    <tr>\n",
       "      <th>199</th>\n",
       "      <td>Imported frozen pangasius fillet sample tested...</td>\n",
       "      <td>biological</td>\n",
       "      <td>virus</td>\n",
       "      <td>83</td>\n",
       "    </tr>\n",
       "  </tbody>\n",
       "</table>\n",
       "<p>200 rows × 4 columns</p>\n",
       "</div>"
      ],
      "text/plain": [
       "                                                 title       hazard-category  \\\n",
       "0    2012 - Whole Foods Market recalls carrot cake ...             allergens   \n",
       "1    CSM Bakery Solutions recalls its 18 Chocolate ...            biological   \n",
       "2    Lactalis McLelland Ltd recalls President Mini ...             allergens   \n",
       "3    Idéale brand, Iceberg Premium brand and Origin...        foreign bodies   \n",
       "4    Public urged not to consume two kinds of prepa...              chemical   \n",
       "..                                                 ...                   ...   \n",
       "195  McCain Family Pizza – Possible foreign matter ...        foreign bodies   \n",
       "196  Sealtest and Mac's brand Chocolate Milk recall...  organoleptic aspects   \n",
       "197  CFS follows up on imported frozen beef abomasu...            biological   \n",
       "198  Your Fresh Market brand cookies recalled due t...             allergens   \n",
       "199  Imported frozen pangasius fillet sample tested...            biological   \n",
       "\n",
       "          hazard-raw  size  \n",
       "0             walnut   100  \n",
       "1         salmonella   117  \n",
       "2               nuts    89  \n",
       "3    metal particles   159  \n",
       "4          histamine    92  \n",
       "..               ...   ...  \n",
       "195     metal pieces    75  \n",
       "196         spoilage    64  \n",
       "197            virus    98  \n",
       "198           almond    74  \n",
       "199            virus    83  \n",
       "\n",
       "[200 rows x 4 columns]"
      ]
     },
     "execution_count": 5,
     "metadata": {},
     "output_type": "execute_result"
    }
   ],
   "source": [
    "data = pd.read_csv('food incidents - hazard/incidents_sample.csv', index_col=0)[['title', 'hazard-category', 'hazard-raw']].fillna('')\n",
    "data[\"size\"] = [len(s) for s in data.title.values]\n",
    "\n",
    "data"
   ]
  },
  {
   "cell_type": "code",
   "execution_count": 6,
   "id": "2edaf1dc-6ce9-417c-8531-bd770d5c2828",
   "metadata": {},
   "outputs": [
    {
     "name": "stdout",
     "output_type": "stream",
     "text": [
      "Min length: 51\n",
      "Max length: 209\n",
      "Avg length: 95.995\n"
     ]
    },
    {
     "data": {
      "image/png": "[encoded data removed]",
      "text/plain": [
       "<Figure size 640x480 with 1 Axes>"
      ]
     },
     "metadata": {},
     "output_type": "display_data"
    }
   ],
   "source": [
    "data['size'].hist()\n",
    "\n",
    "print('Min length:', data['size'].min())\n",
    "print('Max length:', data['size'].max())\n",
    "print('Avg length:', data['size'].mean())"
   ]
  },
  {
   "cell_type": "code",
   "execution_count": 7,
   "id": "2bbfd30d-684e-4bef-96f5-9d0761aea634",
   "metadata": {},
   "outputs": [
    {
     "data": {
      "text/plain": [
       "hazard-category\n",
       "biological              77\n",
       "allergens               53\n",
       "chemical                29\n",
       "foreign bodies          20\n",
       "organoleptic aspects    12\n",
       "fraud                    9\n",
       "Name: count, dtype: int64"
      ]
     },
     "execution_count": 7,
     "metadata": {},
     "output_type": "execute_result"
    }
   ],
   "source": [
    "data['hazard-category'].value_counts()"
   ]
  },
  {
   "cell_type": "markdown",
   "id": "30622f9e-f760-4e67-a4b3-4539104feffe",
   "metadata": {
    "jp-MarkdownHeadingCollapsed": true
   },
   "source": [
    "# Movie Reviews"
   ]
  },
  {
   "cell_type": "code",
   "execution_count": 8,
   "id": "44d65e9b-1cd6-4c4e-9065-28e08b381012",
   "metadata": {},
   "outputs": [
    {
     "data": {
      "text/html": [
       "<div>\n",
       "<style scoped>\n",
       "    .dataframe tbody tr th:only-of-type {\n",
       "        vertical-align: middle;\n",
       "    }\n",
       "\n",
       "    .dataframe tbody tr th {\n",
       "        vertical-align: top;\n",
       "    }\n",
       "\n",
       "    .dataframe thead th {\n",
       "        text-align: right;\n",
       "    }\n",
       "</style>\n",
       "<table border=\"1\" class=\"dataframe\">\n",
       "  <thead>\n",
       "    <tr style=\"text-align: right;\">\n",
       "      <th></th>\n",
       "      <th>annotation_id</th>\n",
       "      <th>text</th>\n",
       "      <th>label</th>\n",
       "      <th>evidences</th>\n",
       "      <th>size</th>\n",
       "    </tr>\n",
       "  </thead>\n",
       "  <tbody>\n",
       "    <tr>\n",
       "      <th>0</th>\n",
       "      <td>negR_800.txt</td>\n",
       "      <td>then there 's his greatest trick -- getting la...</td>\n",
       "      <td>NEG</td>\n",
       "      <td>1</td>\n",
       "      <td>371</td>\n",
       "    </tr>\n",
       "    <tr>\n",
       "      <th>1</th>\n",
       "      <td>negR_801.txt</td>\n",
       "      <td>eye of the storm is impressive in visual sense...</td>\n",
       "      <td>NEG</td>\n",
       "      <td>2</td>\n",
       "      <td>443</td>\n",
       "    </tr>\n",
       "    <tr>\n",
       "      <th>2</th>\n",
       "      <td>negR_802.txt</td>\n",
       "      <td>fichtner 's performance does n't exactly save ...</td>\n",
       "      <td>NEG</td>\n",
       "      <td>3</td>\n",
       "      <td>448</td>\n",
       "    </tr>\n",
       "    <tr>\n",
       "      <th>3</th>\n",
       "      <td>negR_803.txt</td>\n",
       "      <td>- see , that 's provocative , leaves room for ...</td>\n",
       "      <td>NEG</td>\n",
       "      <td>3</td>\n",
       "      <td>986</td>\n",
       "    </tr>\n",
       "    <tr>\n",
       "      <th>4</th>\n",
       "      <td>negR_804.txt</td>\n",
       "      <td>this is not a cheery movie , and most of the t...</td>\n",
       "      <td>NEG</td>\n",
       "      <td>1</td>\n",
       "      <td>222</td>\n",
       "    </tr>\n",
       "    <tr>\n",
       "      <th>...</th>\n",
       "      <td>...</td>\n",
       "      <td>...</td>\n",
       "      <td>...</td>\n",
       "      <td>...</td>\n",
       "      <td>...</td>\n",
       "    </tr>\n",
       "    <tr>\n",
       "      <th>195</th>\n",
       "      <td>posR_895.txt</td>\n",
       "      <td>( he does , in chilling , lasting images . ) i...</td>\n",
       "      <td>POS</td>\n",
       "      <td>1</td>\n",
       "      <td>229</td>\n",
       "    </tr>\n",
       "    <tr>\n",
       "      <th>196</th>\n",
       "      <td>posR_896.txt</td>\n",
       "      <td>since whale lives with only his loyal , but di...</td>\n",
       "      <td>POS</td>\n",
       "      <td>1</td>\n",
       "      <td>623</td>\n",
       "    </tr>\n",
       "    <tr>\n",
       "      <th>197</th>\n",
       "      <td>posR_897.txt</td>\n",
       "      <td>good will hunting \" also has its share of fun ...</td>\n",
       "      <td>POS</td>\n",
       "      <td>1</td>\n",
       "      <td>399</td>\n",
       "    </tr>\n",
       "    <tr>\n",
       "      <th>198</th>\n",
       "      <td>posR_898.txt</td>\n",
       "      <td>first and foremost is joseph mazzello ( \" jura...</td>\n",
       "      <td>POS</td>\n",
       "      <td>3</td>\n",
       "      <td>290</td>\n",
       "    </tr>\n",
       "    <tr>\n",
       "      <th>199</th>\n",
       "      <td>posR_899.txt</td>\n",
       "      <td>the supporting roles are well filled out , fro...</td>\n",
       "      <td>POS</td>\n",
       "      <td>2</td>\n",
       "      <td>355</td>\n",
       "    </tr>\n",
       "  </tbody>\n",
       "</table>\n",
       "<p>200 rows × 5 columns</p>\n",
       "</div>"
      ],
      "text/plain": [
       "    annotation_id                                               text label  \\\n",
       "0    negR_800.txt  then there 's his greatest trick -- getting la...   NEG   \n",
       "1    negR_801.txt  eye of the storm is impressive in visual sense...   NEG   \n",
       "2    negR_802.txt  fichtner 's performance does n't exactly save ...   NEG   \n",
       "3    negR_803.txt  - see , that 's provocative , leaves room for ...   NEG   \n",
       "4    negR_804.txt  this is not a cheery movie , and most of the t...   NEG   \n",
       "..            ...                                                ...   ...   \n",
       "195  posR_895.txt  ( he does , in chilling , lasting images . ) i...   POS   \n",
       "196  posR_896.txt  since whale lives with only his loyal , but di...   POS   \n",
       "197  posR_897.txt  good will hunting \" also has its share of fun ...   POS   \n",
       "198  posR_898.txt  first and foremost is joseph mazzello ( \" jura...   POS   \n",
       "199  posR_899.txt  the supporting roles are well filled out , fro...   POS   \n",
       "\n",
       "     evidences  size  \n",
       "0            1   371  \n",
       "1            2   443  \n",
       "2            3   448  \n",
       "3            3   986  \n",
       "4            1   222  \n",
       "..         ...   ...  \n",
       "195          1   229  \n",
       "196          1   623  \n",
       "197          1   399  \n",
       "198          3   290  \n",
       "199          2   355  \n",
       "\n",
       "[200 rows x 5 columns]"
      ]
     },
     "execution_count": 8,
     "metadata": {},
     "output_type": "execute_result"
    }
   ],
   "source": [
    "with open('movies/val_sample.jsonl', 'r') as file:\n",
    "    dicts = [json.loads(line)[0] for line in file.read().split('\\n')[:-1]]\n",
    "\n",
    "data = pd.DataFrame(columns=[\"annotation_id\", \"text\", \"label\", \"evidences\"])\n",
    "data[\"annotation_id\"] = [d[\"annotation_id\"] for d in dicts]\n",
    "data[\"text\"]          = [d[\"text\"] for d in dicts]\n",
    "data[\"label\"]         = [d[\"classification\"] for d in dicts]\n",
    "data[\"evidences\"]     = [len(d[\"evidences\"]) for d in dicts]\n",
    "data[\"size\"]          = [len(s) for s in data.text.values]\n",
    "\n",
    "data"
   ]
  },
  {
   "cell_type": "code",
   "execution_count": 5,
   "id": "6b443f2e-3f3f-4a24-8f3d-c1a3692370f4",
   "metadata": {},
   "outputs": [
    {
     "name": "stdout",
     "output_type": "stream",
     "text": [
      "Min length: 48\n",
      "Max length: 986\n",
      "Avg length: 344.35\n"
     ]
    },
    {
     "data": {
      "image/png": "[encoded data removed]",
      "text/plain": [
       "<Figure size 640x480 with 1 Axes>"
      ]
     },
     "metadata": {},
     "output_type": "display_data"
    }
   ],
   "source": [
    "data['size'].hist()\n",
    "\n",
    "print('Min length:', data['size'].min())\n",
    "print('Max length:', data['size'].max())\n",
    "print('Avg length:', data['size'].mean())"
   ]
  },
  {
   "cell_type": "code",
   "execution_count": 9,
   "id": "c6f3ebda-e7b8-4bb3-bda2-2c1242b6c622",
   "metadata": {},
   "outputs": [
    {
     "name": "stdout",
     "output_type": "stream",
     "text": [
      "Min number of spans: 1\n",
      "Max number of spans: 6\n",
      "Avg number of spans: 1.69\n"
     ]
    },
    {
     "data": {
      "image/png": "[encoded data removed]",
      "text/plain": [
       "<Figure size 640x480 with 1 Axes>"
      ]
     },
     "metadata": {},
     "output_type": "display_data"
    }
   ],
   "source": [
    "data['evidences'].hist()\n",
    "\n",
    "print('Min number of spans:', data['evidences'].min())\n",
    "print('Max number of spans:', data['evidences'].max())\n",
    "print('Avg number of spans:', data['evidences'].mean())"
   ]
  },
  {
   "cell_type": "markdown",
   "id": "1e2b2807-4035-454d-8274-dd55544bff03",
   "metadata": {
    "jp-MarkdownHeadingCollapsed": true
   },
   "source": [
    "# Toxic Spans"
   ]
  },
  {
   "cell_type": "code",
   "execution_count": 2,
   "id": "616993ea-0700-4a70-8d8b-9823d10f1823",
   "metadata": {},
   "outputs": [
    {
     "data": {
      "text/html": [
       "<div>\n",
       "<style scoped>\n",
       "    .dataframe tbody tr th:only-of-type {\n",
       "        vertical-align: middle;\n",
       "    }\n",
       "\n",
       "    .dataframe tbody tr th {\n",
       "        vertical-align: top;\n",
       "    }\n",
       "\n",
       "    .dataframe thead th {\n",
       "        text-align: right;\n",
       "    }\n",
       "</style>\n",
       "<table border=\"1\" class=\"dataframe\">\n",
       "  <thead>\n",
       "    <tr style=\"text-align: right;\">\n",
       "      <th></th>\n",
       "      <th>comment_text</th>\n",
       "      <th>label</th>\n",
       "      <th>spans</th>\n",
       "      <th>size</th>\n",
       "    </tr>\n",
       "    <tr>\n",
       "      <th>comment_id</th>\n",
       "      <th></th>\n",
       "      <th></th>\n",
       "      <th></th>\n",
       "      <th></th>\n",
       "    </tr>\n",
       "  </thead>\n",
       "  <tbody>\n",
       "    <tr>\n",
       "      <th>253280</th>\n",
       "      <td>What happened to the Willy Week? This revue is...</td>\n",
       "      <td>profane/obscene</td>\n",
       "      <td>fucking stupid</td>\n",
       "      <td>258</td>\n",
       "    </tr>\n",
       "    <tr>\n",
       "      <th>261199</th>\n",
       "      <td>Exactly how are Ms. Dodd's mere words more har...</td>\n",
       "      <td>insult</td>\n",
       "      <td>how</td>\n",
       "      <td>334</td>\n",
       "    </tr>\n",
       "    <tr>\n",
       "      <th>261940</th>\n",
       "      <td>If you ain't white you ain't right ...story of...</td>\n",
       "      <td>identity based attack</td>\n",
       "      <td>ain't white</td>\n",
       "      <td>99</td>\n",
       "    </tr>\n",
       "    <tr>\n",
       "      <th>264846</th>\n",
       "      <td>Why not just shoot him and put him in the free...</td>\n",
       "      <td>identity based attack</td>\n",
       "      <td>shoot</td>\n",
       "      <td>50</td>\n",
       "    </tr>\n",
       "    <tr>\n",
       "      <th>284905</th>\n",
       "      <td>Very funny!!!!.. But seriously.... There kids!...</td>\n",
       "      <td>threat</td>\n",
       "      <td>ets kick,them in the ass</td>\n",
       "      <td>94</td>\n",
       "    </tr>\n",
       "    <tr>\n",
       "      <th>...</th>\n",
       "      <td>...</td>\n",
       "      <td>...</td>\n",
       "      <td>...</td>\n",
       "      <td>...</td>\n",
       "    </tr>\n",
       "    <tr>\n",
       "      <th>6248886</th>\n",
       "      <td>I'm so sorry for your loss Josey. Ignore these...</td>\n",
       "      <td>insult</td>\n",
       "      <td>trolls</td>\n",
       "      <td>193</td>\n",
       "    </tr>\n",
       "    <tr>\n",
       "      <th>6258090</th>\n",
       "      <td>I hate when white trash come floating over fro...</td>\n",
       "      <td>identity based attack</td>\n",
       "      <td>white trash</td>\n",
       "      <td>90</td>\n",
       "    </tr>\n",
       "    <tr>\n",
       "      <th>6267972</th>\n",
       "      <td>And was the Oklahoma bombing, which was our wo...</td>\n",
       "      <td>identity based attack</td>\n",
       "      <td>Muslim terrorist</td>\n",
       "      <td>208</td>\n",
       "    </tr>\n",
       "    <tr>\n",
       "      <th>6302088</th>\n",
       "      <td>As a female, I think you're too dumb to vote.\\...</td>\n",
       "      <td>insult</td>\n",
       "      <td>dumb</td>\n",
       "      <td>95</td>\n",
       "    </tr>\n",
       "    <tr>\n",
       "      <th>6328057</th>\n",
       "      <td>1 down ... but you're right, Republicans are f...</td>\n",
       "      <td>profane/obscene</td>\n",
       "      <td>filthy</td>\n",
       "      <td>79</td>\n",
       "    </tr>\n",
       "  </tbody>\n",
       "</table>\n",
       "<p>200 rows × 4 columns</p>\n",
       "</div>"
      ],
      "text/plain": [
       "                                                 comment_text  \\\n",
       "comment_id                                                      \n",
       "253280      What happened to the Willy Week? This revue is...   \n",
       "261199      Exactly how are Ms. Dodd's mere words more har...   \n",
       "261940      If you ain't white you ain't right ...story of...   \n",
       "264846      Why not just shoot him and put him in the free...   \n",
       "284905      Very funny!!!!.. But seriously.... There kids!...   \n",
       "...                                                       ...   \n",
       "6248886     I'm so sorry for your loss Josey. Ignore these...   \n",
       "6258090     I hate when white trash come floating over fro...   \n",
       "6267972     And was the Oklahoma bombing, which was our wo...   \n",
       "6302088     As a female, I think you're too dumb to vote.\\...   \n",
       "6328057     1 down ... but you're right, Republicans are f...   \n",
       "\n",
       "                            label                     spans  size  \n",
       "comment_id                                                         \n",
       "253280            profane/obscene            fucking stupid   258  \n",
       "261199                     insult                       how   334  \n",
       "261940      identity based attack               ain't white    99  \n",
       "264846      identity based attack                     shoot    50  \n",
       "284905                     threat  ets kick,them in the ass    94  \n",
       "...                           ...                       ...   ...  \n",
       "6248886                    insult                    trolls   193  \n",
       "6258090     identity based attack               white trash    90  \n",
       "6267972     identity based attack          Muslim terrorist   208  \n",
       "6302088                    insult                      dumb    95  \n",
       "6328057           profane/obscene                    filthy    79  \n",
       "\n",
       "[200 rows x 4 columns]"
      ]
     },
     "execution_count": 2,
     "metadata": {},
     "output_type": "execute_result"
    }
   ],
   "source": [
    "data = pd.read_csv('toxic spans/sample.csv', index_col=0)[['comment_text', 'label', 'spans']]\n",
    "data[\"size\"] = [len(s) for s in data.comment_text.values]\n",
    "\n",
    "data"
   ]
  },
  {
   "cell_type": "code",
   "execution_count": 3,
   "id": "7fb16c13-967c-4758-b9c4-c93a6f68fa30",
   "metadata": {},
   "outputs": [
    {
     "name": "stdout",
     "output_type": "stream",
     "text": [
      "Min length: 50\n",
      "Max length: 999\n",
      "Avg length: 227.665\n"
     ]
    },
    {
     "data": {
      "image/png": "[encoded data removed]",
      "text/plain": [
       "<Figure size 640x480 with 1 Axes>"
      ]
     },
     "metadata": {},
     "output_type": "display_data"
    }
   ],
   "source": [
    "data['size'].hist()\n",
    "\n",
    "print('Min length:', data['size'].min())\n",
    "print('Max length:', data['size'].max())\n",
    "print('Avg length:', data['size'].mean())"
   ]
  },
  {
   "cell_type": "code",
   "execution_count": 4,
   "id": "6ed3862a-9ad7-4b43-bc49-815c9e846b51",
   "metadata": {},
   "outputs": [
    {
     "data": {
      "text/plain": [
       "label\n",
       "profane/obscene          50\n",
       "insult                   50\n",
       "identity based attack    50\n",
       "threat                   50\n",
       "Name: count, dtype: int64"
      ]
     },
     "execution_count": 4,
     "metadata": {},
     "output_type": "execute_result"
    }
   ],
   "source": [
    "data['label'].value_counts()"
   ]
  }
 ],
 "metadata": {
  "kernelspec": {
   "display_name": "Python 3 (ipykernel)",
   "language": "python",
   "name": "python3"
  },
  "language_info": {
   "codemirror_mode": {
    "name": "ipython",
    "version": 3
   },
   "file_extension": ".py",
   "mimetype": "text/x-python",
   "name": "python",
   "nbconvert_exporter": "python",
   "pygments_lexer": "ipython3",
   "version": "3.10.12"
  }
 },
 "nbformat": 4,
 "nbformat_minor": 5
}
